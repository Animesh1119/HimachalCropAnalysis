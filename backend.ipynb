{
 "cells": [
  {
   "cell_type": "code",
   "execution_count": 1,
   "id": "d46e4371",
   "metadata": {},
   "outputs": [],
   "source": [
    "import numpy as np\n",
    "import pandas as pd\n",
    "import matplotlib.pyplot as plt\n",
    "import seaborn as sns\n",
    "import warnings\n",
    "warnings.filterwarnings(\"ignore\")\n",
    "pd.set_option('display.max_columns',None)\n",
    "pd.set_option('display.max_rows',None)\n",
    "\n",
    "from sklearn.svm import SVC\n",
    "from sklearn.metrics import accuracy_score\n",
    "from sklearn import datasets\n",
    "\n",
    "from sklearn.model_selection import train_test_split\n",
    "from sklearn.linear_model import LinearRegression\n",
    "# import PySimpleGUI as sg\n",
    "from matplotlib.figure import Figure\n",
    "from matplotlib.backends.backend_tkagg import FigureCanvasTkAgg"
   ]
  },
  {
   "cell_type": "code",
   "execution_count": 2,
   "id": "3d6f4cb7",
   "metadata": {},
   "outputs": [],
   "source": [
    "from sklearn.preprocessing import OneHotEncoder\n",
    "from sklearn.compose import ColumnTransformer"
   ]
  },
  {
   "cell_type": "code",
   "execution_count": 3,
   "id": "9711366b",
   "metadata": {},
   "outputs": [],
   "source": [
    "data=pd.read_csv(\"newData.csv\")"
   ]
  },
  {
   "cell_type": "code",
   "execution_count": 4,
   "id": "a5de1522",
   "metadata": {},
   "outputs": [
    {
     "data": {
      "text/html": [
       "<div>\n",
       "<style scoped>\n",
       "    .dataframe tbody tr th:only-of-type {\n",
       "        vertical-align: middle;\n",
       "    }\n",
       "\n",
       "    .dataframe tbody tr th {\n",
       "        vertical-align: top;\n",
       "    }\n",
       "\n",
       "    .dataframe thead th {\n",
       "        text-align: right;\n",
       "    }\n",
       "</style>\n",
       "<table border=\"1\" class=\"dataframe\">\n",
       "  <thead>\n",
       "    <tr style=\"text-align: right;\">\n",
       "      <th></th>\n",
       "      <th>State</th>\n",
       "      <th>District</th>\n",
       "      <th>Crop</th>\n",
       "      <th>Year</th>\n",
       "      <th>Season</th>\n",
       "      <th>Area</th>\n",
       "      <th>Production</th>\n",
       "      <th>Yield</th>\n",
       "    </tr>\n",
       "  </thead>\n",
       "  <tbody>\n",
       "    <tr>\n",
       "      <th>0</th>\n",
       "      <td>Himachal Pradesh</td>\n",
       "      <td>BILASPUR</td>\n",
       "      <td>Arhar/Tur</td>\n",
       "      <td>1998-99</td>\n",
       "      <td>Kharif</td>\n",
       "      <td>4</td>\n",
       "      <td>1.0</td>\n",
       "      <td>0.25</td>\n",
       "    </tr>\n",
       "    <tr>\n",
       "      <th>1</th>\n",
       "      <td>Himachal Pradesh</td>\n",
       "      <td>BILASPUR</td>\n",
       "      <td>Arhar/Tur</td>\n",
       "      <td>1999-00</td>\n",
       "      <td>Kharif</td>\n",
       "      <td>1</td>\n",
       "      <td>0.0</td>\n",
       "      <td>0.00</td>\n",
       "    </tr>\n",
       "    <tr>\n",
       "      <th>2</th>\n",
       "      <td>Himachal Pradesh</td>\n",
       "      <td>BILASPUR</td>\n",
       "      <td>Arhar/Tur</td>\n",
       "      <td>2000-01</td>\n",
       "      <td>Kharif</td>\n",
       "      <td>3</td>\n",
       "      <td>1.0</td>\n",
       "      <td>0.33</td>\n",
       "    </tr>\n",
       "    <tr>\n",
       "      <th>3</th>\n",
       "      <td>Himachal Pradesh</td>\n",
       "      <td>BILASPUR</td>\n",
       "      <td>Arhar/Tur</td>\n",
       "      <td>2001-02</td>\n",
       "      <td>Kharif</td>\n",
       "      <td>11</td>\n",
       "      <td>3.0</td>\n",
       "      <td>0.27</td>\n",
       "    </tr>\n",
       "    <tr>\n",
       "      <th>4</th>\n",
       "      <td>Himachal Pradesh</td>\n",
       "      <td>BILASPUR</td>\n",
       "      <td>Arhar/Tur</td>\n",
       "      <td>2002-03</td>\n",
       "      <td>Kharif</td>\n",
       "      <td>17</td>\n",
       "      <td>4.0</td>\n",
       "      <td>0.24</td>\n",
       "    </tr>\n",
       "  </tbody>\n",
       "</table>\n",
       "</div>"
      ],
      "text/plain": [
       "              State  District       Crop      Year       Season  Area  \\\n",
       "0  Himachal Pradesh  BILASPUR  Arhar/Tur   1998-99  Kharif          4   \n",
       "1  Himachal Pradesh  BILASPUR  Arhar/Tur   1999-00  Kharif          1   \n",
       "2  Himachal Pradesh  BILASPUR  Arhar/Tur   2000-01  Kharif          3   \n",
       "3  Himachal Pradesh  BILASPUR  Arhar/Tur   2001-02  Kharif         11   \n",
       "4  Himachal Pradesh  BILASPUR  Arhar/Tur   2002-03  Kharif         17   \n",
       "\n",
       "   Production  Yield  \n",
       "0         1.0   0.25  \n",
       "1         0.0   0.00  \n",
       "2         1.0   0.33  \n",
       "3         3.0   0.27  \n",
       "4         4.0   0.24  "
      ]
     },
     "execution_count": 4,
     "metadata": {},
     "output_type": "execute_result"
    }
   ],
   "source": [
    "data.head()"
   ]
  },
  {
   "cell_type": "code",
   "execution_count": 5,
   "id": "db3f5f54",
   "metadata": {},
   "outputs": [
    {
     "name": "stdout",
     "output_type": "stream",
     "text": [
      "<class 'pandas.core.frame.DataFrame'>\n",
      "RangeIndex: 80 entries, 0 to 79\n",
      "Data columns (total 8 columns):\n",
      " #   Column      Non-Null Count  Dtype  \n",
      "---  ------      --------------  -----  \n",
      " 0   State       80 non-null     object \n",
      " 1   District    80 non-null     object \n",
      " 2   Crop        80 non-null     object \n",
      " 3   Year        80 non-null     object \n",
      " 4   Season      80 non-null     object \n",
      " 5   Area        80 non-null     int64  \n",
      " 6   Production  72 non-null     float64\n",
      " 7   Yield       80 non-null     float64\n",
      "dtypes: float64(2), int64(1), object(5)\n",
      "memory usage: 5.1+ KB\n"
     ]
    }
   ],
   "source": [
    "data.info()"
   ]
  },
  {
   "cell_type": "code",
   "execution_count": 6,
   "id": "2404c0fa",
   "metadata": {},
   "outputs": [
    {
     "data": {
      "text/plain": [
       "State          object\n",
       "District       object\n",
       "Crop           object\n",
       "Year           object\n",
       "Season         object\n",
       "Area            int64\n",
       "Production    float64\n",
       "Yield         float64\n",
       "dtype: object"
      ]
     },
     "execution_count": 6,
     "metadata": {},
     "output_type": "execute_result"
    }
   ],
   "source": [
    "data.dtypes"
   ]
  },
  {
   "cell_type": "code",
   "execution_count": 7,
   "id": "5c9371af",
   "metadata": {},
   "outputs": [
    {
     "data": {
      "text/html": [
       "<div>\n",
       "<style scoped>\n",
       "    .dataframe tbody tr th:only-of-type {\n",
       "        vertical-align: middle;\n",
       "    }\n",
       "\n",
       "    .dataframe tbody tr th {\n",
       "        vertical-align: top;\n",
       "    }\n",
       "\n",
       "    .dataframe thead th {\n",
       "        text-align: right;\n",
       "    }\n",
       "</style>\n",
       "<table border=\"1\" class=\"dataframe\">\n",
       "  <thead>\n",
       "    <tr style=\"text-align: right;\">\n",
       "      <th></th>\n",
       "      <th>State</th>\n",
       "      <th>District</th>\n",
       "      <th>Crop</th>\n",
       "      <th>Year</th>\n",
       "      <th>Season</th>\n",
       "      <th>Area</th>\n",
       "      <th>Production</th>\n",
       "      <th>Yield</th>\n",
       "    </tr>\n",
       "  </thead>\n",
       "  <tbody>\n",
       "    <tr>\n",
       "      <th>count</th>\n",
       "      <td>80</td>\n",
       "      <td>80</td>\n",
       "      <td>80</td>\n",
       "      <td>80</td>\n",
       "      <td>80</td>\n",
       "      <td>80.000000</td>\n",
       "      <td>72.000000</td>\n",
       "      <td>80.000000</td>\n",
       "    </tr>\n",
       "    <tr>\n",
       "      <th>unique</th>\n",
       "      <td>1</td>\n",
       "      <td>9</td>\n",
       "      <td>1</td>\n",
       "      <td>20</td>\n",
       "      <td>1</td>\n",
       "      <td>NaN</td>\n",
       "      <td>NaN</td>\n",
       "      <td>NaN</td>\n",
       "    </tr>\n",
       "    <tr>\n",
       "      <th>top</th>\n",
       "      <td>Himachal Pradesh</td>\n",
       "      <td>SHIMLA</td>\n",
       "      <td>Arhar/Tur</td>\n",
       "      <td>2000-01</td>\n",
       "      <td>Kharif</td>\n",
       "      <td>NaN</td>\n",
       "      <td>NaN</td>\n",
       "      <td>NaN</td>\n",
       "    </tr>\n",
       "    <tr>\n",
       "      <th>freq</th>\n",
       "      <td>80</td>\n",
       "      <td>20</td>\n",
       "      <td>80</td>\n",
       "      <td>7</td>\n",
       "      <td>80</td>\n",
       "      <td>NaN</td>\n",
       "      <td>NaN</td>\n",
       "      <td>NaN</td>\n",
       "    </tr>\n",
       "    <tr>\n",
       "      <th>mean</th>\n",
       "      <td>NaN</td>\n",
       "      <td>NaN</td>\n",
       "      <td>NaN</td>\n",
       "      <td>NaN</td>\n",
       "      <td>NaN</td>\n",
       "      <td>37.475000</td>\n",
       "      <td>10.416667</td>\n",
       "      <td>0.367125</td>\n",
       "    </tr>\n",
       "    <tr>\n",
       "      <th>std</th>\n",
       "      <td>NaN</td>\n",
       "      <td>NaN</td>\n",
       "      <td>NaN</td>\n",
       "      <td>NaN</td>\n",
       "      <td>NaN</td>\n",
       "      <td>155.182455</td>\n",
       "      <td>36.736116</td>\n",
       "      <td>0.276448</td>\n",
       "    </tr>\n",
       "    <tr>\n",
       "      <th>min</th>\n",
       "      <td>NaN</td>\n",
       "      <td>NaN</td>\n",
       "      <td>NaN</td>\n",
       "      <td>NaN</td>\n",
       "      <td>NaN</td>\n",
       "      <td>1.000000</td>\n",
       "      <td>0.000000</td>\n",
       "      <td>0.000000</td>\n",
       "    </tr>\n",
       "    <tr>\n",
       "      <th>25%</th>\n",
       "      <td>NaN</td>\n",
       "      <td>NaN</td>\n",
       "      <td>NaN</td>\n",
       "      <td>NaN</td>\n",
       "      <td>NaN</td>\n",
       "      <td>2.750000</td>\n",
       "      <td>1.750000</td>\n",
       "      <td>0.200000</td>\n",
       "    </tr>\n",
       "    <tr>\n",
       "      <th>50%</th>\n",
       "      <td>NaN</td>\n",
       "      <td>NaN</td>\n",
       "      <td>NaN</td>\n",
       "      <td>NaN</td>\n",
       "      <td>NaN</td>\n",
       "      <td>10.000000</td>\n",
       "      <td>4.000000</td>\n",
       "      <td>0.295000</td>\n",
       "    </tr>\n",
       "    <tr>\n",
       "      <th>75%</th>\n",
       "      <td>NaN</td>\n",
       "      <td>NaN</td>\n",
       "      <td>NaN</td>\n",
       "      <td>NaN</td>\n",
       "      <td>NaN</td>\n",
       "      <td>19.250000</td>\n",
       "      <td>8.250000</td>\n",
       "      <td>0.500000</td>\n",
       "    </tr>\n",
       "    <tr>\n",
       "      <th>max</th>\n",
       "      <td>NaN</td>\n",
       "      <td>NaN</td>\n",
       "      <td>NaN</td>\n",
       "      <td>NaN</td>\n",
       "      <td>NaN</td>\n",
       "      <td>1370.000000</td>\n",
       "      <td>312.000000</td>\n",
       "      <td>1.000000</td>\n",
       "    </tr>\n",
       "  </tbody>\n",
       "</table>\n",
       "</div>"
      ],
      "text/plain": [
       "                   State District       Crop      Year       Season  \\\n",
       "count                 80       80         80        80           80   \n",
       "unique                 1        9          1        20            1   \n",
       "top     Himachal Pradesh   SHIMLA  Arhar/Tur   2000-01  Kharif        \n",
       "freq                  80       20         80         7           80   \n",
       "mean                 NaN      NaN        NaN       NaN          NaN   \n",
       "std                  NaN      NaN        NaN       NaN          NaN   \n",
       "min                  NaN      NaN        NaN       NaN          NaN   \n",
       "25%                  NaN      NaN        NaN       NaN          NaN   \n",
       "50%                  NaN      NaN        NaN       NaN          NaN   \n",
       "75%                  NaN      NaN        NaN       NaN          NaN   \n",
       "max                  NaN      NaN        NaN       NaN          NaN   \n",
       "\n",
       "               Area  Production      Yield  \n",
       "count     80.000000   72.000000  80.000000  \n",
       "unique          NaN         NaN        NaN  \n",
       "top             NaN         NaN        NaN  \n",
       "freq            NaN         NaN        NaN  \n",
       "mean      37.475000   10.416667   0.367125  \n",
       "std      155.182455   36.736116   0.276448  \n",
       "min        1.000000    0.000000   0.000000  \n",
       "25%        2.750000    1.750000   0.200000  \n",
       "50%       10.000000    4.000000   0.295000  \n",
       "75%       19.250000    8.250000   0.500000  \n",
       "max     1370.000000  312.000000   1.000000  "
      ]
     },
     "execution_count": 7,
     "metadata": {},
     "output_type": "execute_result"
    }
   ],
   "source": [
    "data.describe(include='all')"
   ]
  },
  {
   "cell_type": "code",
   "execution_count": 8,
   "id": "ff89adac",
   "metadata": {},
   "outputs": [
    {
     "data": {
      "text/plain": [
       "State         0\n",
       "District      0\n",
       "Crop          0\n",
       "Year          0\n",
       "Season        0\n",
       "Area          0\n",
       "Production    8\n",
       "Yield         0\n",
       "dtype: int64"
      ]
     },
     "execution_count": 8,
     "metadata": {},
     "output_type": "execute_result"
    }
   ],
   "source": [
    "data.isnull().sum()"
   ]
  },
  {
   "cell_type": "code",
   "execution_count": 9,
   "id": "a5d9e5fe",
   "metadata": {},
   "outputs": [
    {
     "data": {
      "text/plain": [
       "(80, 8)"
      ]
     },
     "execution_count": 9,
     "metadata": {},
     "output_type": "execute_result"
    }
   ],
   "source": [
    "data.shape"
   ]
  },
  {
   "cell_type": "code",
   "execution_count": 10,
   "id": "56d6116b",
   "metadata": {},
   "outputs": [],
   "source": [
    "data=data[data[\"Production\"] >= 0]"
   ]
  },
  {
   "cell_type": "code",
   "execution_count": 11,
   "id": "52fecf66",
   "metadata": {},
   "outputs": [
    {
     "data": {
      "text/plain": [
       "72"
      ]
     },
     "execution_count": 11,
     "metadata": {},
     "output_type": "execute_result"
    }
   ],
   "source": [
    "len(data)"
   ]
  },
  {
   "cell_type": "code",
   "execution_count": 12,
   "id": "e358ce15",
   "metadata": {},
   "outputs": [
    {
     "data": {
      "image/png": "[encoded data removed]",
      "text/plain": [
       "<Figure size 640x480 with 1 Axes>"
      ]
     },
     "metadata": {},
     "output_type": "display_data"
    }
   ],
   "source": [
    "sns.countplot(x=\"Production\",data=data)\n",
    "plt.savefig('Production.png', format='png')"
   ]
  },
  {
   "cell_type": "code",
   "execution_count": 13,
   "id": "be0f4350",
   "metadata": {},
   "outputs": [
    {
     "data": {
      "image/png": "[encoded data removed]",
      "text/plain": [
       "<Figure size 640x480 with 1 Axes>"
      ]
     },
     "metadata": {},
     "output_type": "display_data"
    }
   ],
   "source": [
    "sns.distplot(data[\"Area\"])\n",
    "plt.savefig('Area.png', format='png')"
   ]
  },
  {
   "cell_type": "code",
   "execution_count": 14,
   "id": "742cce24",
   "metadata": {},
   "outputs": [
    {
     "data": {
      "image/png": "[encoded data removed]",
      "text/plain": [
       "<Figure size 640x480 with 1 Axes>"
      ]
     },
     "metadata": {},
     "output_type": "display_data"
    }
   ],
   "source": [
    "sns.distplot(data[data[\"Production\"] < 300][\"Production\"], kde=False);\n",
    "plt.savefig('fig1.png', format='png')"
   ]
  },
  {
   "cell_type": "code",
   "execution_count": 15,
   "id": "f2493dd3",
   "metadata": {},
   "outputs": [
    {
     "data": {
      "text/html": [
       "<div>\n",
       "<style scoped>\n",
       "    .dataframe tbody tr th:only-of-type {\n",
       "        vertical-align: middle;\n",
       "    }\n",
       "\n",
       "    .dataframe tbody tr th {\n",
       "        vertical-align: top;\n",
       "    }\n",
       "\n",
       "    .dataframe thead th {\n",
       "        text-align: right;\n",
       "    }\n",
       "</style>\n",
       "<table border=\"1\" class=\"dataframe\">\n",
       "  <thead>\n",
       "    <tr style=\"text-align: right;\">\n",
       "      <th></th>\n",
       "      <th>State</th>\n",
       "      <th>District</th>\n",
       "      <th>Crop</th>\n",
       "      <th>Year</th>\n",
       "      <th>Season</th>\n",
       "      <th>Area</th>\n",
       "      <th>Production</th>\n",
       "      <th>Yield</th>\n",
       "    </tr>\n",
       "  </thead>\n",
       "  <tbody>\n",
       "    <tr>\n",
       "      <th>0</th>\n",
       "      <td>Himachal Pradesh</td>\n",
       "      <td>BILASPUR</td>\n",
       "      <td>Arhar/Tur</td>\n",
       "      <td>1998-99</td>\n",
       "      <td>Kharif</td>\n",
       "      <td>4</td>\n",
       "      <td>1.0</td>\n",
       "      <td>0.25</td>\n",
       "    </tr>\n",
       "    <tr>\n",
       "      <th>1</th>\n",
       "      <td>Himachal Pradesh</td>\n",
       "      <td>BILASPUR</td>\n",
       "      <td>Arhar/Tur</td>\n",
       "      <td>1999-00</td>\n",
       "      <td>Kharif</td>\n",
       "      <td>1</td>\n",
       "      <td>0.0</td>\n",
       "      <td>0.00</td>\n",
       "    </tr>\n",
       "    <tr>\n",
       "      <th>2</th>\n",
       "      <td>Himachal Pradesh</td>\n",
       "      <td>BILASPUR</td>\n",
       "      <td>Arhar/Tur</td>\n",
       "      <td>2000-01</td>\n",
       "      <td>Kharif</td>\n",
       "      <td>3</td>\n",
       "      <td>1.0</td>\n",
       "      <td>0.33</td>\n",
       "    </tr>\n",
       "    <tr>\n",
       "      <th>3</th>\n",
       "      <td>Himachal Pradesh</td>\n",
       "      <td>BILASPUR</td>\n",
       "      <td>Arhar/Tur</td>\n",
       "      <td>2001-02</td>\n",
       "      <td>Kharif</td>\n",
       "      <td>11</td>\n",
       "      <td>3.0</td>\n",
       "      <td>0.27</td>\n",
       "    </tr>\n",
       "    <tr>\n",
       "      <th>4</th>\n",
       "      <td>Himachal Pradesh</td>\n",
       "      <td>BILASPUR</td>\n",
       "      <td>Arhar/Tur</td>\n",
       "      <td>2002-03</td>\n",
       "      <td>Kharif</td>\n",
       "      <td>17</td>\n",
       "      <td>4.0</td>\n",
       "      <td>0.24</td>\n",
       "    </tr>\n",
       "  </tbody>\n",
       "</table>\n",
       "</div>"
      ],
      "text/plain": [
       "              State  District       Crop      Year       Season  Area  \\\n",
       "0  Himachal Pradesh  BILASPUR  Arhar/Tur   1998-99  Kharif          4   \n",
       "1  Himachal Pradesh  BILASPUR  Arhar/Tur   1999-00  Kharif          1   \n",
       "2  Himachal Pradesh  BILASPUR  Arhar/Tur   2000-01  Kharif          3   \n",
       "3  Himachal Pradesh  BILASPUR  Arhar/Tur   2001-02  Kharif         11   \n",
       "4  Himachal Pradesh  BILASPUR  Arhar/Tur   2002-03  Kharif         17   \n",
       "\n",
       "   Production  Yield  \n",
       "0         1.0   0.25  \n",
       "1         0.0   0.00  \n",
       "2         1.0   0.33  \n",
       "3         3.0   0.27  \n",
       "4         4.0   0.24  "
      ]
     },
     "execution_count": 15,
     "metadata": {},
     "output_type": "execute_result"
    }
   ],
   "source": [
    "data.head()"
   ]
  },
  {
   "cell_type": "code",
   "execution_count": 16,
   "id": "ca4782b4",
   "metadata": {},
   "outputs": [],
   "source": [
    "x = data.drop(['Production'],axis=1)\n",
    "y = data['Production']"
   ]
  },
  {
   "cell_type": "code",
   "execution_count": 17,
   "id": "ec545b35",
   "metadata": {},
   "outputs": [],
   "source": [
    "cetegorical_features = [\"State\",\"District\",\"Crop\",\"Season\",\"Year\"]\n",
    "one_hot = OneHotEncoder()\n",
    "transformer = ColumnTransformer([(\"one_hot\",\n",
    "                                 one_hot,\n",
    "                                 cetegorical_features)],remainder=\"passthrough\")\n",
    "transformed_X = transformer.fit_transform(x)"
   ]
  },
  {
   "cell_type": "code",
   "execution_count": 18,
   "id": "162e91a5",
   "metadata": {},
   "outputs": [
    {
     "name": "stdout",
     "output_type": "stream",
     "text": [
      "   District_CHAMBA  District_KANGRA  District_KULLU  District_MANDI  \\\n",
      "0            False            False           False           False   \n",
      "1            False            False           False           False   \n",
      "2            False            False           False           False   \n",
      "3            False            False           False           False   \n",
      "4            False            False           False           False   \n",
      "\n",
      "   District_SHIMLA  District_SIRMAUR  District_SOLAN  District_UNA  \\\n",
      "0            False             False           False         False   \n",
      "1            False             False           False         False   \n",
      "2            False             False           False         False   \n",
      "3            False             False           False         False   \n",
      "4            False             False           False         False   \n",
      "\n",
      "   Year_ 1999-00  Year_ 2000-01  Year_ 2001-02  Year_ 2002-03  Year_ 2005-06  \\\n",
      "0          False          False          False          False          False   \n",
      "1           True          False          False          False          False   \n",
      "2          False           True          False          False          False   \n",
      "3          False          False           True          False          False   \n",
      "4          False          False          False           True          False   \n",
      "\n",
      "   Year_ 2006-07  Year_ 2007-08  Year_ 2008-09  Year_ 2009-10  Year_ 2010-11  \\\n",
      "0          False          False          False          False          False   \n",
      "1          False          False          False          False          False   \n",
      "2          False          False          False          False          False   \n",
      "3          False          False          False          False          False   \n",
      "4          False          False          False          False          False   \n",
      "\n",
      "   Year_ 2011-12  Year_ 2012-13  Year_ 2013-14  Year_ 2014-15  Year_ 2015-16  \\\n",
      "0          False          False          False          False          False   \n",
      "1          False          False          False          False          False   \n",
      "2          False          False          False          False          False   \n",
      "3          False          False          False          False          False   \n",
      "4          False          False          False          False          False   \n",
      "\n",
      "   Year_ 2016-17  Year_ 2017-18  Year_ 2018-19  Year_ 2019-20  Area  Yield  \n",
      "0          False          False          False          False     4   0.25  \n",
      "1          False          False          False          False     1   0.00  \n",
      "2          False          False          False          False     3   0.33  \n",
      "3          False          False          False          False    11   0.27  \n",
      "4          False          False          False          False    17   0.24  \n"
     ]
    }
   ],
   "source": [
    "# One-hot encode the categorical columns\n",
    "one_hot_encoded = pd.get_dummies(x[cetegorical_features], drop_first=True)\n",
    "\n",
    "# Drop the original categorical columns from the DataFrame\n",
    "x = x.drop(cetegorical_features, axis=1)\n",
    "\n",
    "# Concatenate the one-hot encoded DataFrame with the original DataFrame\n",
    "x_transformed = pd.concat([one_hot_encoded, x], axis=1)\n",
    "\n",
    "# Let's print the updated DataFrame\n",
    "print(x_transformed.head())\n"
   ]
  },
  {
   "cell_type": "code",
   "execution_count": 19,
   "id": "42c3d0b8",
   "metadata": {},
   "outputs": [],
   "source": [
    "x_train, x_test, y_train, y_test = train_test_split(x,y,test_size=0.30,random_state=0)"
   ]
  },
  {
   "cell_type": "code",
   "execution_count": 20,
   "id": "1b42afed",
   "metadata": {},
   "outputs": [
    {
     "name": "stdout",
     "output_type": "stream",
     "text": [
      "Shape of x_train:  (50, 2)\n",
      "Shape of x_test:  (22, 2)\n",
      "Shape of y_train:  (50,)\n",
      "Shape of y_test:  (22,)\n"
     ]
    }
   ],
   "source": [
    "print(\"Shape of x_train: \",x_train.shape)\n",
    "print(\"Shape of x_test: \",x_test.shape)\n",
    "print(\"Shape of y_train: \",y_train.shape)\n",
    "print(\"Shape of y_test: \",y_test.shape)"
   ]
  },
  {
   "cell_type": "code",
   "execution_count": 21,
   "id": "4a23d3e5",
   "metadata": {},
   "outputs": [],
   "source": [
    "#svm implementation"
   ]
  },
  {
   "cell_type": "code",
   "execution_count": 22,
   "id": "3a32c0e4",
   "metadata": {},
   "outputs": [
    {
     "name": "stdout",
     "output_type": "stream",
     "text": [
      "Accuracy: 0.2727272727272727\n"
     ]
    }
   ],
   "source": [
    "# Create SVM classifier\n",
    "svm_classifier = SVC(kernel='linear', C=1.0)\n",
    "\n",
    "# Train the SVM classifier\n",
    "svm_classifier.fit(x_train, y_train)\n",
    "\n",
    "# Make predictions on the testing set\n",
    "y_pred = svm_classifier.predict(x_test)\n",
    "\n",
    "# Evaluate the model\n",
    "accuracy = accuracy_score(y_test, y_pred)\n",
    "print(\"Accuracy:\", accuracy)\n"
   ]
  },
  {
   "cell_type": "code",
   "execution_count": 26,
   "id": "cef4a065",
   "metadata": {},
   "outputs": [],
   "source": [
    "import joblib  \n",
    "\n",
    "joblib.dump(y_pred, 'model.pkl') \n",
    "\n",
    "model = joblib.load(\"model.pkl\")"
   ]
  },
  {
   "cell_type": "code",
   "execution_count": null,
   "id": "b7b7c938",
   "metadata": {},
   "outputs": [],
   "source": []
  },
  {
   "cell_type": "code",
   "execution_count": 24,
   "id": "1290e5fc",
   "metadata": {},
   "outputs": [],
   "source": [
    "def preprocess(lat1,lon1,lat2,lon2,nop):\n",
    "    test_data=np.array([[lat1,lon1,lat2,lon2,nop]])\n",
    "    trained_model=joblib.load(\"model.pkl\")\n",
    "    prediction=trained_model.predict(test_data)\n",
    "    return prediction\n",
    "# t=preprocess(40.733143,-73.987130,40.758092,-73.991567,1)\n",
    "# print(\"Fare: \",t)"
   ]
  },
  {
   "cell_type": "code",
   "execution_count": null,
   "id": "0d52ddda",
   "metadata": {},
   "outputs": [],
   "source": []
  }
 ],
 "metadata": {
  "kernelspec": {
   "display_name": "Python 3 (ipykernel)",
   "language": "python",
   "name": "python3"
  },
  "language_info": {
   "codemirror_mode": {
    "name": "ipython",
    "version": 3
   },
   "file_extension": ".py",
   "mimetype": "text/x-python",
   "name": "python",
   "nbconvert_exporter": "python",
   "pygments_lexer": "ipython3",
   "version": "3.11.5"
  }
 },
 "nbformat": 4,
 "nbformat_minor": 5
}
