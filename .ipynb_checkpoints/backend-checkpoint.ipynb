{
 "cells": [
  {
   "cell_type": "code",
   "execution_count": 1,
   "id": "d46e4371",
   "metadata": {},
   "outputs": [],
   "source": [
    "import numpy as np\n",
    "import pandas as pd\n",
    "import matplotlib.pyplot as plt\n",
    "import seaborn as sns\n",
    "import warnings\n",
    "warnings.filterwarnings(\"ignore\")\n",
    "pd.set_option('display.max_columns',None)\n",
    "pd.set_option('display.max_rows',None)\n",
    "\n",
    "from sklearn.model_selection import train_test_split\n",
    "from sklearn.linear_model import LinearRegression\n",
    "# import PySimpleGUI as sg\n",
    "from matplotlib.figure import Figure\n",
    "from matplotlib.backends.backend_tkagg import FigureCanvasTkAgg"
   ]
  },
  {
   "cell_type": "code",
   "execution_count": null,
   "id": "3d6f4cb7",
   "metadata": {},
   "outputs": [],
   "source": []
  },
  {
   "cell_type": "code",
   "execution_count": 2,
   "id": "b312044d",
   "metadata": {},
   "outputs": [],
   "source": [
    "# def CreateFinalWindow(t):\n",
    "#     layerRes = [\n",
    "#         [sg.Push(),sg.Text('Predicted Fare'),sg.Push()],\n",
    "#         [sg.VPush()],\n",
    "#         [sg.Push(),sg.Text(f'{t}',key='--RESF--'),sg.Push()],\n",
    "#         [sg.Push(),sg.Button('OK',key='--OK--'),sg.Push()],\n",
    "#         [sg.VPush()]\n",
    "#     ]\n",
    "\n",
    "#     FinalWin = sg.Window('Result',layerRes)\n",
    "#     return FinalWin\n",
    "\n"
   ]
  },
  {
   "cell_type": "code",
   "execution_count": 3,
   "id": "183f10e9",
   "metadata": {},
   "outputs": [],
   "source": [
    "# def CallFinal(t):\n",
    "#     runFin = CreateFinalWindow(t)\n",
    "#     while True:\n",
    "#         event,values = runFin.read()\n",
    "#         if event in (sg.WIN_CLOSED,'--OK--'):\n",
    "#             break\n",
    "#     runFin.close()"
   ]
  },
  {
   "cell_type": "code",
   "execution_count": 4,
   "id": "f653889c",
   "metadata": {},
   "outputs": [],
   "source": [
    "# def createWin2():\n",
    "#     layout1=[\n",
    "#         [sg.Text('1 of 3')],\n",
    "#         [sg.Image('passengerDensity.png',expand_x=True),sg.Image('fig1.png',expand_x=True)],\n",
    "#         [sg.Button('Next',key='--JP3--')]\n",
    "#     ]\n",
    "#     mainWin = sg.Window('plotter',layout=layout1,finalize=True)\n",
    "#     mainWin.Maximize()\n",
    "#     return mainWin\n",
    "\n",
    "# def callWin2():\n",
    "#     secondWin = createWin2()\n",
    "#     while True:\n",
    "#         event,values = secondWin.read()\n",
    "#         if event == sg.WIN_CLOSED:\n",
    "#             break\n",
    "#         elif event == '--JP3--':\n",
    "#             callWin3()\n",
    "#     secondWin.close()\n",
    "\n",
    "\n",
    "# def createWin3():\n",
    "#     layout1=[\n",
    "#         [sg.Text('2 of 3')],\n",
    "#         [sg.Image('amountCount.png',expand_x=True,expand_y=True)],\n",
    "#         [sg.Button('Next',key='--JP4--')]\n",
    "#     ]\n",
    "#     mainWin = sg.Window('plotter',layout=layout1,finalize=True)\n",
    "#     mainWin.Maximize()\n",
    "#     return mainWin\n",
    "\n",
    "# def callWin3():\n",
    "#     thirdWin = createWin3()\n",
    "#     while True:\n",
    "#         event,values = thirdWin.read()\n",
    "#         if event == sg.WIN_CLOSED:\n",
    "#             break\n",
    "#         elif event == '--JP4--':\n",
    "#             callWin4()\n",
    "#     thirdWin.close()\n",
    "\n",
    "# def createWin4():\n",
    "#     layout1=[\n",
    "#         [sg.Text('3 of 3')],\n",
    "#         [sg.Image('pickUp.png',expand_x=True),sg.Image('dropOff.png',expand_x=True)],\n",
    "#         [sg.Button('Next',key='--JP5--')]\n",
    "#     ]\n",
    "#     mainWin = sg.Window('plotter',layout=layout1,finalize=True)\n",
    "#     mainWin.Maximize()\n",
    "#     return mainWin\n",
    "\n",
    "# def callWin4():\n",
    "#     fourthWin = createWin4()\n",
    "#     while True:\n",
    "#         event,values = fourthWin.read()\n",
    "#         if event == sg.WIN_CLOSED:\n",
    "#             break\n",
    "#         elif event == '--JP5--':\n",
    "#             callWin4()\n",
    "#     fourthWin.close()"
   ]
  },
  {
   "cell_type": "code",
   "execution_count": 5,
   "id": "9ede92c4",
   "metadata": {},
   "outputs": [],
   "source": [
    "# screenCount=0\n",
    "# layout1 = [\n",
    "#     [sg.Text('Load a Database')],\n",
    "#     [sg.Text('Dir: '),sg.Input(),sg.FileBrowse()],\n",
    "#     [sg.Button('Submit',key='--SUB--')]\n",
    "# ]\n",
    "\n",
    "# mainWin = sg.Window('PrimaryLayout',layout=layout1)\n",
    "\n",
    "# win2=False"
   ]
  },
  {
   "cell_type": "code",
   "execution_count": 6,
   "id": "26288c59",
   "metadata": {},
   "outputs": [],
   "source": [
    "# sg.theme('BlueMono')\n",
    "\n",
    "# layout2 = [\n",
    "#     [sg.Push(),sg.Text('Fare Prediction',font='Aeriel 50'),sg.Push()],\n",
    "#     [sg.VPush()],\n",
    "#     [sg.Text('Pickup Coordinates')],\n",
    "#     [sg.Text('Latitude: '),sg.Input(key='--PLAT--'),sg.Text('Longitude: '),sg.Input(key='--PLON--')],\n",
    "#     [sg.Text('Destination Coordinates')],\n",
    "#     [sg.Text('Latitude: '),sg.Input(key='--DLAT--'),sg.Text('Longitude: '),sg.Input(key='--DLON--')],\n",
    "#     [sg.Text('No. Of Passengers: '),sg.Input(expand_x=True,key='--PASSE--')],\n",
    "#     [sg.Text('Estimated Fare: ',font='Aeriel 20'),sg.Text('_',font='Aeriel 20',key='--FR--')],\n",
    "#     [sg.Push(),sg.Button('Submit',font='Aeriel 10',size=(20,20),key='--SUBF--'),sg.Push()],\n",
    "#     [sg.VPush()]\n",
    "# ]\n",
    "\n",
    "# expWin = sg.Window('Data Analysis',layout=layout2,size=(800,300))"
   ]
  },
  {
   "cell_type": "code",
   "execution_count": null,
   "id": "afba6741",
   "metadata": {},
   "outputs": [],
   "source": []
  },
  {
   "cell_type": "code",
   "execution_count": 7,
   "id": "9711366b",
   "metadata": {},
   "outputs": [],
   "source": [
    "data=pd.read_csv(\"dataset.csv\")"
   ]
  },
  {
   "cell_type": "code",
   "execution_count": 8,
   "id": "a5de1522",
   "metadata": {},
   "outputs": [
    {
     "data": {
      "text/html": [
       "<div>\n",
       "<style scoped>\n",
       "    .dataframe tbody tr th:only-of-type {\n",
       "        vertical-align: middle;\n",
       "    }\n",
       "\n",
       "    .dataframe tbody tr th {\n",
       "        vertical-align: top;\n",
       "    }\n",
       "\n",
       "    .dataframe thead th {\n",
       "        text-align: right;\n",
       "    }\n",
       "</style>\n",
       "<table border=\"1\" class=\"dataframe\">\n",
       "  <thead>\n",
       "    <tr style=\"text-align: right;\">\n",
       "      <th></th>\n",
       "      <th>unique_id</th>\n",
       "      <th>amount</th>\n",
       "      <th>date_time_of_pickup</th>\n",
       "      <th>longitude_of_pickup</th>\n",
       "      <th>latitude_of_pickup</th>\n",
       "      <th>longitude_of_dropoff</th>\n",
       "      <th>latitude_of_dropoff</th>\n",
       "      <th>no_of_passenger</th>\n",
       "    </tr>\n",
       "  </thead>\n",
       "  <tbody>\n",
       "    <tr>\n",
       "      <th>0</th>\n",
       "      <td>26:21.0</td>\n",
       "      <td>4.5</td>\n",
       "      <td>2009-06-15 17:26:21 UTC</td>\n",
       "      <td>-73.844311</td>\n",
       "      <td>40.721319</td>\n",
       "      <td>-73.841610</td>\n",
       "      <td>40.712278</td>\n",
       "      <td>1</td>\n",
       "    </tr>\n",
       "    <tr>\n",
       "      <th>1</th>\n",
       "      <td>52:16.0</td>\n",
       "      <td>16.9</td>\n",
       "      <td>2010-01-05 16:52:16 UTC</td>\n",
       "      <td>-74.016048</td>\n",
       "      <td>40.711303</td>\n",
       "      <td>-73.979268</td>\n",
       "      <td>40.782004</td>\n",
       "      <td>1</td>\n",
       "    </tr>\n",
       "    <tr>\n",
       "      <th>2</th>\n",
       "      <td>35:00.0</td>\n",
       "      <td>5.7</td>\n",
       "      <td>2011-08-18 00:35:00 UTC</td>\n",
       "      <td>-73.982738</td>\n",
       "      <td>40.761270</td>\n",
       "      <td>-73.991242</td>\n",
       "      <td>40.750562</td>\n",
       "      <td>2</td>\n",
       "    </tr>\n",
       "    <tr>\n",
       "      <th>3</th>\n",
       "      <td>30:42.0</td>\n",
       "      <td>7.7</td>\n",
       "      <td>2012-04-21 04:30:42 UTC</td>\n",
       "      <td>-73.987130</td>\n",
       "      <td>40.733143</td>\n",
       "      <td>-73.991567</td>\n",
       "      <td>40.758092</td>\n",
       "      <td>1</td>\n",
       "    </tr>\n",
       "    <tr>\n",
       "      <th>4</th>\n",
       "      <td>51:00.0</td>\n",
       "      <td>5.3</td>\n",
       "      <td>2010-03-09 07:51:00 UTC</td>\n",
       "      <td>-73.968095</td>\n",
       "      <td>40.768008</td>\n",
       "      <td>-73.956655</td>\n",
       "      <td>40.783762</td>\n",
       "      <td>1</td>\n",
       "    </tr>\n",
       "  </tbody>\n",
       "</table>\n",
       "</div>"
      ],
      "text/plain": [
       "  unique_id  amount      date_time_of_pickup  longitude_of_pickup  \\\n",
       "0   26:21.0     4.5  2009-06-15 17:26:21 UTC           -73.844311   \n",
       "1   52:16.0    16.9  2010-01-05 16:52:16 UTC           -74.016048   \n",
       "2   35:00.0     5.7  2011-08-18 00:35:00 UTC           -73.982738   \n",
       "3   30:42.0     7.7  2012-04-21 04:30:42 UTC           -73.987130   \n",
       "4   51:00.0     5.3  2010-03-09 07:51:00 UTC           -73.968095   \n",
       "\n",
       "   latitude_of_pickup  longitude_of_dropoff  latitude_of_dropoff  \\\n",
       "0           40.721319            -73.841610            40.712278   \n",
       "1           40.711303            -73.979268            40.782004   \n",
       "2           40.761270            -73.991242            40.750562   \n",
       "3           40.733143            -73.991567            40.758092   \n",
       "4           40.768008            -73.956655            40.783762   \n",
       "\n",
       "   no_of_passenger  \n",
       "0                1  \n",
       "1                1  \n",
       "2                2  \n",
       "3                1  \n",
       "4                1  "
      ]
     },
     "execution_count": 8,
     "metadata": {},
     "output_type": "execute_result"
    }
   ],
   "source": [
    "data.head()"
   ]
  },
  {
   "cell_type": "code",
   "execution_count": 9,
   "id": "db3f5f54",
   "metadata": {},
   "outputs": [
    {
     "name": "stdout",
     "output_type": "stream",
     "text": [
      "<class 'pandas.core.frame.DataFrame'>\n",
      "RangeIndex: 50000 entries, 0 to 49999\n",
      "Data columns (total 8 columns):\n",
      " #   Column                Non-Null Count  Dtype  \n",
      "---  ------                --------------  -----  \n",
      " 0   unique_id             50000 non-null  object \n",
      " 1   amount                50000 non-null  float64\n",
      " 2   date_time_of_pickup   50000 non-null  object \n",
      " 3   longitude_of_pickup   50000 non-null  float64\n",
      " 4   latitude_of_pickup    50000 non-null  float64\n",
      " 5   longitude_of_dropoff  50000 non-null  float64\n",
      " 6   latitude_of_dropoff   50000 non-null  float64\n",
      " 7   no_of_passenger       50000 non-null  int64  \n",
      "dtypes: float64(5), int64(1), object(2)\n",
      "memory usage: 3.1+ MB\n"
     ]
    }
   ],
   "source": [
    "data.info()"
   ]
  },
  {
   "cell_type": "code",
   "execution_count": 10,
   "id": "2404c0fa",
   "metadata": {},
   "outputs": [
    {
     "data": {
      "text/plain": [
       "unique_id                object\n",
       "amount                  float64\n",
       "date_time_of_pickup      object\n",
       "longitude_of_pickup     float64\n",
       "latitude_of_pickup      float64\n",
       "longitude_of_dropoff    float64\n",
       "latitude_of_dropoff     float64\n",
       "no_of_passenger           int64\n",
       "dtype: object"
      ]
     },
     "execution_count": 10,
     "metadata": {},
     "output_type": "execute_result"
    }
   ],
   "source": [
    "data.dtypes"
   ]
  },
  {
   "cell_type": "code",
   "execution_count": 11,
   "id": "5c9371af",
   "metadata": {},
   "outputs": [
    {
     "data": {
      "text/html": [
       "<div>\n",
       "<style scoped>\n",
       "    .dataframe tbody tr th:only-of-type {\n",
       "        vertical-align: middle;\n",
       "    }\n",
       "\n",
       "    .dataframe tbody tr th {\n",
       "        vertical-align: top;\n",
       "    }\n",
       "\n",
       "    .dataframe thead th {\n",
       "        text-align: right;\n",
       "    }\n",
       "</style>\n",
       "<table border=\"1\" class=\"dataframe\">\n",
       "  <thead>\n",
       "    <tr style=\"text-align: right;\">\n",
       "      <th></th>\n",
       "      <th>unique_id</th>\n",
       "      <th>amount</th>\n",
       "      <th>date_time_of_pickup</th>\n",
       "      <th>longitude_of_pickup</th>\n",
       "      <th>latitude_of_pickup</th>\n",
       "      <th>longitude_of_dropoff</th>\n",
       "      <th>latitude_of_dropoff</th>\n",
       "      <th>no_of_passenger</th>\n",
       "    </tr>\n",
       "  </thead>\n",
       "  <tbody>\n",
       "    <tr>\n",
       "      <th>count</th>\n",
       "      <td>50000</td>\n",
       "      <td>50000.000000</td>\n",
       "      <td>50000</td>\n",
       "      <td>50000.000000</td>\n",
       "      <td>50000.000000</td>\n",
       "      <td>50000.000000</td>\n",
       "      <td>50000.000000</td>\n",
       "      <td>50000.000000</td>\n",
       "    </tr>\n",
       "    <tr>\n",
       "      <th>unique</th>\n",
       "      <td>3597</td>\n",
       "      <td>NaN</td>\n",
       "      <td>49555</td>\n",
       "      <td>NaN</td>\n",
       "      <td>NaN</td>\n",
       "      <td>NaN</td>\n",
       "      <td>NaN</td>\n",
       "      <td>NaN</td>\n",
       "    </tr>\n",
       "    <tr>\n",
       "      <th>top</th>\n",
       "      <td>26:00.0</td>\n",
       "      <td>NaN</td>\n",
       "      <td>2011-09-03 01:30:00 UTC</td>\n",
       "      <td>NaN</td>\n",
       "      <td>NaN</td>\n",
       "      <td>NaN</td>\n",
       "      <td>NaN</td>\n",
       "      <td>NaN</td>\n",
       "    </tr>\n",
       "    <tr>\n",
       "      <th>freq</th>\n",
       "      <td>457</td>\n",
       "      <td>NaN</td>\n",
       "      <td>3</td>\n",
       "      <td>NaN</td>\n",
       "      <td>NaN</td>\n",
       "      <td>NaN</td>\n",
       "      <td>NaN</td>\n",
       "      <td>NaN</td>\n",
       "    </tr>\n",
       "    <tr>\n",
       "      <th>mean</th>\n",
       "      <td>NaN</td>\n",
       "      <td>11.364171</td>\n",
       "      <td>NaN</td>\n",
       "      <td>-72.509756</td>\n",
       "      <td>39.933759</td>\n",
       "      <td>-72.504616</td>\n",
       "      <td>39.926251</td>\n",
       "      <td>1.667840</td>\n",
       "    </tr>\n",
       "    <tr>\n",
       "      <th>std</th>\n",
       "      <td>NaN</td>\n",
       "      <td>9.685557</td>\n",
       "      <td>NaN</td>\n",
       "      <td>10.393860</td>\n",
       "      <td>6.224857</td>\n",
       "      <td>10.407570</td>\n",
       "      <td>6.014737</td>\n",
       "      <td>1.289195</td>\n",
       "    </tr>\n",
       "    <tr>\n",
       "      <th>min</th>\n",
       "      <td>NaN</td>\n",
       "      <td>-5.000000</td>\n",
       "      <td>NaN</td>\n",
       "      <td>-75.423848</td>\n",
       "      <td>-74.006893</td>\n",
       "      <td>-84.654241</td>\n",
       "      <td>-74.006377</td>\n",
       "      <td>0.000000</td>\n",
       "    </tr>\n",
       "    <tr>\n",
       "      <th>25%</th>\n",
       "      <td>NaN</td>\n",
       "      <td>6.000000</td>\n",
       "      <td>NaN</td>\n",
       "      <td>-73.992062</td>\n",
       "      <td>40.734880</td>\n",
       "      <td>-73.991152</td>\n",
       "      <td>40.734372</td>\n",
       "      <td>1.000000</td>\n",
       "    </tr>\n",
       "    <tr>\n",
       "      <th>50%</th>\n",
       "      <td>NaN</td>\n",
       "      <td>8.500000</td>\n",
       "      <td>NaN</td>\n",
       "      <td>-73.981840</td>\n",
       "      <td>40.752678</td>\n",
       "      <td>-73.980082</td>\n",
       "      <td>40.753372</td>\n",
       "      <td>1.000000</td>\n",
       "    </tr>\n",
       "    <tr>\n",
       "      <th>75%</th>\n",
       "      <td>NaN</td>\n",
       "      <td>12.500000</td>\n",
       "      <td>NaN</td>\n",
       "      <td>-73.967148</td>\n",
       "      <td>40.767360</td>\n",
       "      <td>-73.963584</td>\n",
       "      <td>40.768167</td>\n",
       "      <td>2.000000</td>\n",
       "    </tr>\n",
       "    <tr>\n",
       "      <th>max</th>\n",
       "      <td>NaN</td>\n",
       "      <td>200.000000</td>\n",
       "      <td>NaN</td>\n",
       "      <td>40.783472</td>\n",
       "      <td>401.083332</td>\n",
       "      <td>40.851027</td>\n",
       "      <td>43.415190</td>\n",
       "      <td>6.000000</td>\n",
       "    </tr>\n",
       "  </tbody>\n",
       "</table>\n",
       "</div>"
      ],
      "text/plain": [
       "       unique_id        amount      date_time_of_pickup  longitude_of_pickup  \\\n",
       "count      50000  50000.000000                    50000         50000.000000   \n",
       "unique      3597           NaN                    49555                  NaN   \n",
       "top      26:00.0           NaN  2011-09-03 01:30:00 UTC                  NaN   \n",
       "freq         457           NaN                        3                  NaN   \n",
       "mean         NaN     11.364171                      NaN           -72.509756   \n",
       "std          NaN      9.685557                      NaN            10.393860   \n",
       "min          NaN     -5.000000                      NaN           -75.423848   \n",
       "25%          NaN      6.000000                      NaN           -73.992062   \n",
       "50%          NaN      8.500000                      NaN           -73.981840   \n",
       "75%          NaN     12.500000                      NaN           -73.967148   \n",
       "max          NaN    200.000000                      NaN            40.783472   \n",
       "\n",
       "        latitude_of_pickup  longitude_of_dropoff  latitude_of_dropoff  \\\n",
       "count         50000.000000          50000.000000         50000.000000   \n",
       "unique                 NaN                   NaN                  NaN   \n",
       "top                    NaN                   NaN                  NaN   \n",
       "freq                   NaN                   NaN                  NaN   \n",
       "mean             39.933759            -72.504616            39.926251   \n",
       "std               6.224857             10.407570             6.014737   \n",
       "min             -74.006893            -84.654241           -74.006377   \n",
       "25%              40.734880            -73.991152            40.734372   \n",
       "50%              40.752678            -73.980082            40.753372   \n",
       "75%              40.767360            -73.963584            40.768167   \n",
       "max             401.083332             40.851027            43.415190   \n",
       "\n",
       "        no_of_passenger  \n",
       "count      50000.000000  \n",
       "unique              NaN  \n",
       "top                 NaN  \n",
       "freq                NaN  \n",
       "mean           1.667840  \n",
       "std            1.289195  \n",
       "min            0.000000  \n",
       "25%            1.000000  \n",
       "50%            1.000000  \n",
       "75%            2.000000  \n",
       "max            6.000000  "
      ]
     },
     "execution_count": 11,
     "metadata": {},
     "output_type": "execute_result"
    }
   ],
   "source": [
    "data.describe(include='all')"
   ]
  },
  {
   "cell_type": "code",
   "execution_count": 12,
   "id": "ff89adac",
   "metadata": {},
   "outputs": [
    {
     "data": {
      "text/plain": [
       "unique_id               0\n",
       "amount                  0\n",
       "date_time_of_pickup     0\n",
       "longitude_of_pickup     0\n",
       "latitude_of_pickup      0\n",
       "longitude_of_dropoff    0\n",
       "latitude_of_dropoff     0\n",
       "no_of_passenger         0\n",
       "dtype: int64"
      ]
     },
     "execution_count": 12,
     "metadata": {},
     "output_type": "execute_result"
    }
   ],
   "source": [
    "data.isnull().sum()"
   ]
  },
  {
   "cell_type": "code",
   "execution_count": 13,
   "id": "a5d9e5fe",
   "metadata": {},
   "outputs": [
    {
     "data": {
      "text/plain": [
       "(50000, 8)"
      ]
     },
     "execution_count": 13,
     "metadata": {},
     "output_type": "execute_result"
    }
   ],
   "source": [
    "data.shape"
   ]
  },
  {
   "cell_type": "code",
   "execution_count": 14,
   "id": "56d6116b",
   "metadata": {},
   "outputs": [],
   "source": [
    "data=data[data[\"amount\"] >= 0]"
   ]
  },
  {
   "cell_type": "code",
   "execution_count": 15,
   "id": "52fecf66",
   "metadata": {},
   "outputs": [
    {
     "data": {
      "text/plain": [
       "49994"
      ]
     },
     "execution_count": 15,
     "metadata": {},
     "output_type": "execute_result"
    }
   ],
   "source": [
    "len(data)"
   ]
  },
  {
   "cell_type": "code",
   "execution_count": 16,
   "id": "e358ce15",
   "metadata": {},
   "outputs": [
    {
     "data": {
      "image/png": "[encoded data removed]",
      "text/plain": [
       "<Figure size 640x480 with 1 Axes>"
      ]
     },
     "metadata": {},
     "output_type": "display_data"
    }
   ],
   "source": [
    "sns.countplot(x=\"amount\",data=data)\n",
    "plt.savefig('amountCount.png', format='png')"
   ]
  },
  {
   "cell_type": "code",
   "execution_count": null,
   "id": "59957b0d",
   "metadata": {},
   "outputs": [],
   "source": []
  },
  {
   "cell_type": "code",
   "execution_count": 17,
   "id": "be0f4350",
   "metadata": {},
   "outputs": [
    {
     "name": "stderr",
     "output_type": "stream",
     "text": [
      "C:\\Users\\Hp\\AppData\\Local\\Temp\\ipykernel_20408\\1487123828.py:1: UserWarning: \n",
      "\n",
      "`distplot` is a deprecated function and will be removed in seaborn v0.14.0.\n",
      "\n",
      "Please adapt your code to use either `displot` (a figure-level function with\n",
      "similar flexibility) or `histplot` (an axes-level function for histograms).\n",
      "\n",
      "For a guide to updating your code to use the new functions, please see\n",
      "https://gist.github.com/mwaskom/de44147ed2974457ad6372750bbe5751\n",
      "\n",
      "  sns.distplot(data[\"no_of_passenger\"])\n"
     ]
    },
    {
     "data": {
      "image/png": "[encoded data removed]",
      "text/plain": [
       "<Figure size 640x480 with 1 Axes>"
      ]
     },
     "metadata": {},
     "output_type": "display_data"
    }
   ],
   "source": [
    "sns.distplot(data[\"no_of_passenger\"])\n",
    "plt.savefig('passengerDensity.png', format='png')"
   ]
  },
  {
   "cell_type": "code",
   "execution_count": 18,
   "id": "742cce24",
   "metadata": {},
   "outputs": [
    {
     "name": "stderr",
     "output_type": "stream",
     "text": [
      "C:\\Users\\Hp\\AppData\\Local\\Temp\\ipykernel_20408\\3062895864.py:1: UserWarning: \n",
      "\n",
      "`distplot` is a deprecated function and will be removed in seaborn v0.14.0.\n",
      "\n",
      "Please adapt your code to use either `displot` (a figure-level function with\n",
      "similar flexibility) or `histplot` (an axes-level function for histograms).\n",
      "\n",
      "For a guide to updating your code to use the new functions, please see\n",
      "https://gist.github.com/mwaskom/de44147ed2974457ad6372750bbe5751\n",
      "\n",
      "  sns.distplot(data[data[\"amount\"] < 100][\"amount\"], kde=False);\n"
     ]
    },
    {
     "data": {
      "image/png": "[encoded data removed]",
      "text/plain": [
       "<Figure size 640x480 with 1 Axes>"
      ]
     },
     "metadata": {},
     "output_type": "display_data"
    }
   ],
   "source": [
    "sns.distplot(data[data[\"amount\"] < 100][\"amount\"], kde=False);\n",
    "plt.savefig('fig1.png', format='png')"
   ]
  },
  {
   "cell_type": "code",
   "execution_count": 19,
   "id": "b5ed46e8",
   "metadata": {},
   "outputs": [
    {
     "name": "stdout",
     "output_type": "stream",
     "text": [
      "-84.654241\n"
     ]
    }
   ],
   "source": [
    "print(min(data[\"longitude_of_pickup\"].min(), data[\"longitude_of_dropoff\"].min()))"
   ]
  },
  {
   "cell_type": "code",
   "execution_count": 20,
   "id": "a170a399",
   "metadata": {},
   "outputs": [
    {
     "name": "stdout",
     "output_type": "stream",
     "text": [
      "40.851027\n"
     ]
    }
   ],
   "source": [
    "print(max(data[\"longitude_of_pickup\"].max(), data[\"longitude_of_dropoff\"].max()))"
   ]
  },
  {
   "cell_type": "code",
   "execution_count": 21,
   "id": "0bf6dcaa",
   "metadata": {},
   "outputs": [
    {
     "name": "stdout",
     "output_type": "stream",
     "text": [
      "-74.006893\n"
     ]
    }
   ],
   "source": [
    "print(min(data[\"latitude_of_pickup\"].min(), data[\"latitude_of_dropoff\"].min()))"
   ]
  },
  {
   "cell_type": "code",
   "execution_count": 22,
   "id": "6c414482",
   "metadata": {},
   "outputs": [
    {
     "name": "stdout",
     "output_type": "stream",
     "text": [
      "401.083332\n"
     ]
    }
   ],
   "source": [
    "print(max(data[\"latitude_of_pickup\"].max(), data[\"latitude_of_dropoff\"].max()))"
   ]
  },
  {
   "cell_type": "code",
   "execution_count": 23,
   "id": "baf31853",
   "metadata": {},
   "outputs": [
    {
     "data": {
      "image/png": "[encoded data removed]",
      "text/plain": [
       "<Figure size 640x480 with 1 Axes>"
      ]
     },
     "metadata": {},
     "output_type": "display_data"
    }
   ],
   "source": [
    "city_long_border = (-74.03,-73.75)\n",
    "city_lat_border = (40.63,40.85)\n",
    "\n",
    "data.plot(kind='scatter',x='longitude_of_pickup',y='latitude_of_pickup',color='red',s=0.2,alpha=.6)\n",
    "plt.title(\"Pickups\")\n",
    "plt.ylim(city_lat_border)\n",
    "plt.xlim(city_long_border)\n",
    "\n",
    "plt.savefig('pickUp.png', format='png')"
   ]
  },
  {
   "cell_type": "code",
   "execution_count": 24,
   "id": "e53e8af3",
   "metadata": {},
   "outputs": [
    {
     "data": {
      "image/png": "[encoded data removed]",
      "text/plain": [
       "<Figure size 640x480 with 1 Axes>"
      ]
     },
     "metadata": {},
     "output_type": "display_data"
    }
   ],
   "source": [
    "city_long_border = (-74.03,-73.75)\n",
    "city_lat_border = (40.63,40.85)\n",
    "\n",
    "data.plot(kind='scatter',x='longitude_of_dropoff',y='latitude_of_dropoff',color='blue',s=0.2,alpha=.6)\n",
    "plt.title(\"Pickups\")\n",
    "plt.ylim(city_lat_border)\n",
    "plt.xlim(city_long_border)\n",
    "\n",
    "plt.savefig('dropOff.png', format='png')"
   ]
  },
  {
   "cell_type": "code",
   "execution_count": 27,
   "id": "f2493dd3",
   "metadata": {},
   "outputs": [
    {
     "data": {
      "text/html": [
       "<div>\n",
       "<style scoped>\n",
       "    .dataframe tbody tr th:only-of-type {\n",
       "        vertical-align: middle;\n",
       "    }\n",
       "\n",
       "    .dataframe tbody tr th {\n",
       "        vertical-align: top;\n",
       "    }\n",
       "\n",
       "    .dataframe thead th {\n",
       "        text-align: right;\n",
       "    }\n",
       "</style>\n",
       "<table border=\"1\" class=\"dataframe\">\n",
       "  <thead>\n",
       "    <tr style=\"text-align: right;\">\n",
       "      <th></th>\n",
       "      <th>unique_id</th>\n",
       "      <th>amount</th>\n",
       "      <th>date_time_of_pickup</th>\n",
       "      <th>longitude_of_pickup</th>\n",
       "      <th>latitude_of_pickup</th>\n",
       "      <th>longitude_of_dropoff</th>\n",
       "      <th>latitude_of_dropoff</th>\n",
       "      <th>no_of_passenger</th>\n",
       "      <th>distance_miles</th>\n",
       "    </tr>\n",
       "  </thead>\n",
       "  <tbody>\n",
       "    <tr>\n",
       "      <th>0</th>\n",
       "      <td>26:21.0</td>\n",
       "      <td>4.5</td>\n",
       "      <td>2009-06-15 17:26:21 UTC</td>\n",
       "      <td>-73.844311</td>\n",
       "      <td>40.721319</td>\n",
       "      <td>-73.841610</td>\n",
       "      <td>40.712278</td>\n",
       "      <td>1</td>\n",
       "      <td>0.640487</td>\n",
       "    </tr>\n",
       "    <tr>\n",
       "      <th>1</th>\n",
       "      <td>52:16.0</td>\n",
       "      <td>16.9</td>\n",
       "      <td>2010-01-05 16:52:16 UTC</td>\n",
       "      <td>-74.016048</td>\n",
       "      <td>40.711303</td>\n",
       "      <td>-73.979268</td>\n",
       "      <td>40.782004</td>\n",
       "      <td>1</td>\n",
       "      <td>5.250670</td>\n",
       "    </tr>\n",
       "    <tr>\n",
       "      <th>2</th>\n",
       "      <td>35:00.0</td>\n",
       "      <td>5.7</td>\n",
       "      <td>2011-08-18 00:35:00 UTC</td>\n",
       "      <td>-73.982738</td>\n",
       "      <td>40.761270</td>\n",
       "      <td>-73.991242</td>\n",
       "      <td>40.750562</td>\n",
       "      <td>2</td>\n",
       "      <td>0.863411</td>\n",
       "    </tr>\n",
       "    <tr>\n",
       "      <th>3</th>\n",
       "      <td>30:42.0</td>\n",
       "      <td>7.7</td>\n",
       "      <td>2012-04-21 04:30:42 UTC</td>\n",
       "      <td>-73.987130</td>\n",
       "      <td>40.733143</td>\n",
       "      <td>-73.991567</td>\n",
       "      <td>40.758092</td>\n",
       "      <td>1</td>\n",
       "      <td>1.739386</td>\n",
       "    </tr>\n",
       "    <tr>\n",
       "      <th>4</th>\n",
       "      <td>51:00.0</td>\n",
       "      <td>5.3</td>\n",
       "      <td>2010-03-09 07:51:00 UTC</td>\n",
       "      <td>-73.968095</td>\n",
       "      <td>40.768008</td>\n",
       "      <td>-73.956655</td>\n",
       "      <td>40.783762</td>\n",
       "      <td>1</td>\n",
       "      <td>1.242218</td>\n",
       "    </tr>\n",
       "  </tbody>\n",
       "</table>\n",
       "</div>"
      ],
      "text/plain": [
       "  unique_id  amount      date_time_of_pickup  longitude_of_pickup  \\\n",
       "0   26:21.0     4.5  2009-06-15 17:26:21 UTC           -73.844311   \n",
       "1   52:16.0    16.9  2010-01-05 16:52:16 UTC           -74.016048   \n",
       "2   35:00.0     5.7  2011-08-18 00:35:00 UTC           -73.982738   \n",
       "3   30:42.0     7.7  2012-04-21 04:30:42 UTC           -73.987130   \n",
       "4   51:00.0     5.3  2010-03-09 07:51:00 UTC           -73.968095   \n",
       "\n",
       "   latitude_of_pickup  longitude_of_dropoff  latitude_of_dropoff  \\\n",
       "0           40.721319            -73.841610            40.712278   \n",
       "1           40.711303            -73.979268            40.782004   \n",
       "2           40.761270            -73.991242            40.750562   \n",
       "3           40.733143            -73.991567            40.758092   \n",
       "4           40.768008            -73.956655            40.783762   \n",
       "\n",
       "   no_of_passenger  distance_miles  \n",
       "0                1        0.640487  \n",
       "1                1        5.250670  \n",
       "2                2        0.863411  \n",
       "3                1        1.739386  \n",
       "4                1        1.242218  "
      ]
     },
     "execution_count": 27,
     "metadata": {},
     "output_type": "execute_result"
    }
   ],
   "source": [
    "data.head()"
   ]
  },
  {
   "cell_type": "code",
   "execution_count": 28,
   "id": "58baa4b3",
   "metadata": {},
   "outputs": [
    {
     "data": {
      "text/html": [
       "<div>\n",
       "<style scoped>\n",
       "    .dataframe tbody tr th:only-of-type {\n",
       "        vertical-align: middle;\n",
       "    }\n",
       "\n",
       "    .dataframe tbody tr th {\n",
       "        vertical-align: top;\n",
       "    }\n",
       "\n",
       "    .dataframe thead th {\n",
       "        text-align: right;\n",
       "    }\n",
       "</style>\n",
       "<table border=\"1\" class=\"dataframe\">\n",
       "  <thead>\n",
       "    <tr style=\"text-align: right;\">\n",
       "      <th></th>\n",
       "      <th>amount</th>\n",
       "      <th>longitude_of_pickup</th>\n",
       "      <th>latitude_of_pickup</th>\n",
       "      <th>longitude_of_dropoff</th>\n",
       "      <th>latitude_of_dropoff</th>\n",
       "      <th>no_of_passenger</th>\n",
       "      <th>distance_miles</th>\n",
       "    </tr>\n",
       "  </thead>\n",
       "  <tbody>\n",
       "    <tr>\n",
       "      <th>0</th>\n",
       "      <td>4.5</td>\n",
       "      <td>-73.844311</td>\n",
       "      <td>40.721319</td>\n",
       "      <td>-73.841610</td>\n",
       "      <td>40.712278</td>\n",
       "      <td>1</td>\n",
       "      <td>0.640487</td>\n",
       "    </tr>\n",
       "    <tr>\n",
       "      <th>1</th>\n",
       "      <td>16.9</td>\n",
       "      <td>-74.016048</td>\n",
       "      <td>40.711303</td>\n",
       "      <td>-73.979268</td>\n",
       "      <td>40.782004</td>\n",
       "      <td>1</td>\n",
       "      <td>5.250670</td>\n",
       "    </tr>\n",
       "    <tr>\n",
       "      <th>2</th>\n",
       "      <td>5.7</td>\n",
       "      <td>-73.982738</td>\n",
       "      <td>40.761270</td>\n",
       "      <td>-73.991242</td>\n",
       "      <td>40.750562</td>\n",
       "      <td>2</td>\n",
       "      <td>0.863411</td>\n",
       "    </tr>\n",
       "    <tr>\n",
       "      <th>3</th>\n",
       "      <td>7.7</td>\n",
       "      <td>-73.987130</td>\n",
       "      <td>40.733143</td>\n",
       "      <td>-73.991567</td>\n",
       "      <td>40.758092</td>\n",
       "      <td>1</td>\n",
       "      <td>1.739386</td>\n",
       "    </tr>\n",
       "    <tr>\n",
       "      <th>4</th>\n",
       "      <td>5.3</td>\n",
       "      <td>-73.968095</td>\n",
       "      <td>40.768008</td>\n",
       "      <td>-73.956655</td>\n",
       "      <td>40.783762</td>\n",
       "      <td>1</td>\n",
       "      <td>1.242218</td>\n",
       "    </tr>\n",
       "  </tbody>\n",
       "</table>\n",
       "</div>"
      ],
      "text/plain": [
       "   amount  longitude_of_pickup  latitude_of_pickup  longitude_of_dropoff  \\\n",
       "0     4.5           -73.844311           40.721319            -73.841610   \n",
       "1    16.9           -74.016048           40.711303            -73.979268   \n",
       "2     5.7           -73.982738           40.761270            -73.991242   \n",
       "3     7.7           -73.987130           40.733143            -73.991567   \n",
       "4     5.3           -73.968095           40.768008            -73.956655   \n",
       "\n",
       "   latitude_of_dropoff  no_of_passenger  distance_miles  \n",
       "0            40.712278                1        0.640487  \n",
       "1            40.782004                1        5.250670  \n",
       "2            40.750562                2        0.863411  \n",
       "3            40.758092                1        1.739386  \n",
       "4            40.783762                1        1.242218  "
      ]
     },
     "execution_count": 28,
     "metadata": {},
     "output_type": "execute_result"
    }
   ],
   "source": [
    "data.drop(['date_time_of_pickup'],axis=1,inplace=True)\n",
    "data.drop(['unique_id'],axis=1,inplace=True)\n",
    "data.head()"
   ]
  },
  {
   "cell_type": "code",
   "execution_count": 29,
   "id": "ca4782b4",
   "metadata": {},
   "outputs": [],
   "source": [
    "x = data.drop(['amount'],axis=1)\n",
    "y = data['amount']"
   ]
  },
  {
   "cell_type": "code",
   "execution_count": 30,
   "id": "42c3d0b8",
   "metadata": {},
   "outputs": [],
   "source": [
    "x_train, x_test, y_train, y_test = train_test_split(x,y,test_size=0.30,random_state=0)"
   ]
  },
  {
   "cell_type": "code",
   "execution_count": 31,
   "id": "1b42afed",
   "metadata": {},
   "outputs": [
    {
     "name": "stdout",
     "output_type": "stream",
     "text": [
      "Shape of x_train:  (34995, 6)\n",
      "Shape of x_test:  (14999, 6)\n",
      "Shape of y_train:  (34995,)\n",
      "Shape of y_test:  (14999,)\n"
     ]
    }
   ],
   "source": [
    "print(\"Shape of x_train: \",x_train.shape)\n",
    "print(\"Shape of x_test: \",x_test.shape)\n",
    "print(\"Shape of y_train: \",y_train.shape)\n",
    "print(\"Shape of y_test: \",y_test.shape)"
   ]
  },
  {
   "cell_type": "code",
   "execution_count": 32,
   "id": "f3e2dd24",
   "metadata": {},
   "outputs": [
    {
     "name": "stdout",
     "output_type": "stream",
     "text": [
      "0.0006755418379458256\n"
     ]
    }
   ],
   "source": [
    "model_1r = LinearRegression()\n",
    "model_1r.fit(x_train, y_train)\n",
    "\n",
    "k=model_1r.score(x_train, y_train)\n",
    "py=model_1r\n",
    "print(k)"
   ]
  },
  {
   "cell_type": "code",
   "execution_count": 33,
   "id": "dd7472fd",
   "metadata": {},
   "outputs": [
    {
     "name": "stdout",
     "output_type": "stream",
     "text": [
      "Mean Squared Error: 44.09\n"
     ]
    }
   ],
   "source": [
    "from sklearn.tree import DecisionTreeRegressor\n",
    "from sklearn.metrics import mean_squared_error\n",
    "\n",
    "decision_tree_Regressor = DecisionTreeRegressor()\n",
    "\n",
    "decision_tree_Regressor.fit(x_train, y_train)\n",
    "\n",
    "y_pred = decision_tree_Regressor.predict(x_test)\n",
    "\n",
    "mse = mean_squared_error(y_test, y_pred)\n",
    "print(f\"Mean Squared Error: {mse:.2f}\")"
   ]
  },
  {
   "cell_type": "code",
   "execution_count": 34,
   "id": "2cc5b1b5",
   "metadata": {},
   "outputs": [
    {
     "data": {
      "text/plain": [
       "0.9769447556582354"
      ]
     },
     "execution_count": 34,
     "metadata": {},
     "output_type": "execute_result"
    }
   ],
   "source": [
    "model_1r =  DecisionTreeRegressor()\n",
    "model_1r.fit(x, y)\n",
    "\n",
    "model_1r.score(x, y)"
   ]
  },
  {
   "cell_type": "code",
   "execution_count": 35,
   "id": "8566f48a",
   "metadata": {},
   "outputs": [
    {
     "name": "stdout",
     "output_type": "stream",
     "text": [
      "Mean Squared Error: 26.62995382142809\n"
     ]
    },
    {
     "name": "stderr",
     "output_type": "stream",
     "text": [
      "C:\\Users\\Hp\\anaconda3\\Lib\\site-packages\\sklearn\\base.py:464: UserWarning: X does not have valid feature names, but GradientBoostingRegressor was fitted with feature names\n",
      "  warnings.warn(\n"
     ]
    }
   ],
   "source": [
    "from sklearn.ensemble import GradientBoostingRegressor\n",
    "from sklearn.metrics import mean_squared_error\n",
    "\n",
    "gradient_boosting_regressor = GradientBoostingRegressor(n_estimators=100, learning_rate=0.1, max_depth=5, random_state=42)\n",
    "gradient_boosting_regressor.fit(x_train, y_train)\n",
    "y_pred = gradient_boosting_regressor.predict(x_test)\n",
    "mse = mean_squared_error(y_test, y_pred)\n",
    "print(\"Mean Squared Error:\", mse)\n",
    "\n",
    "X_test_sorted = np.sort(x_test, axis=0)\n",
    "y_pred_sorted = gradient_boosting_regressor.predict(X_test_sorted)"
   ]
  },
  {
   "cell_type": "code",
   "execution_count": 36,
   "id": "2fc28cff",
   "metadata": {},
   "outputs": [
    {
     "data": {
      "text/plain": [
       "0.8042930638515732"
      ]
     },
     "execution_count": 36,
     "metadata": {},
     "output_type": "execute_result"
    }
   ],
   "source": [
    "model_1r = GradientBoostingRegressor()\n",
    "model_1r.fit(x_train, y_train)\n",
    "\n",
    "model_1r.score(x_train, y_train)"
   ]
  },
  {
   "cell_type": "code",
   "execution_count": 37,
   "id": "08a594d8",
   "metadata": {},
   "outputs": [],
   "source": [
    "ndf = pd.read_csv(\"TaxiFare.csv\")"
   ]
  },
  {
   "cell_type": "code",
   "execution_count": 38,
   "id": "4ed339d2",
   "metadata": {},
   "outputs": [],
   "source": [
    "x = ndf.drop(['amount','date_time_of_pickup','unique_id'],axis=1)\n",
    "y = ndf['amount']"
   ]
  },
  {
   "cell_type": "code",
   "execution_count": 39,
   "id": "7a3dbdcd",
   "metadata": {},
   "outputs": [],
   "source": [
    "x_train, x_test, y_train, y_test = train_test_split(x,y,test_size=0.30,random_state=0)"
   ]
  },
  {
   "cell_type": "code",
   "execution_count": 40,
   "id": "598e4521",
   "metadata": {},
   "outputs": [
    {
     "name": "stdout",
     "output_type": "stream",
     "text": [
      "<class 'pandas.core.frame.DataFrame'>\n",
      "Index: 35000 entries, 17967 to 2732\n",
      "Data columns (total 5 columns):\n",
      " #   Column                Non-Null Count  Dtype  \n",
      "---  ------                --------------  -----  \n",
      " 0   longitude_of_pickup   35000 non-null  float64\n",
      " 1   latitude_of_pickup    35000 non-null  float64\n",
      " 2   longitude_of_dropoff  35000 non-null  float64\n",
      " 3   latitude_of_dropoff   35000 non-null  float64\n",
      " 4   no_of_passenger       35000 non-null  int64  \n",
      "dtypes: float64(4), int64(1)\n",
      "memory usage: 1.6 MB\n"
     ]
    }
   ],
   "source": [
    "x_train.info()"
   ]
  },
  {
   "cell_type": "code",
   "execution_count": 41,
   "id": "cdba0eb4",
   "metadata": {},
   "outputs": [
    {
     "name": "stdout",
     "output_type": "stream",
     "text": [
      "Mean Squared Error: 36.75232672312712\n"
     ]
    },
    {
     "name": "stderr",
     "output_type": "stream",
     "text": [
      "C:\\Users\\Hp\\anaconda3\\Lib\\site-packages\\sklearn\\base.py:464: UserWarning: X does not have valid feature names, but RandomForestRegressor was fitted with feature names\n",
      "  warnings.warn(\n"
     ]
    },
    {
     "data": {
      "text/plain": [
       "0.9444712323691704"
      ]
     },
     "execution_count": 41,
     "metadata": {},
     "output_type": "execute_result"
    }
   ],
   "source": [
    "from sklearn.ensemble import RandomForestRegressor\n",
    "\n",
    "np.random.seed(42)\n",
    "\n",
    "\n",
    "random_forest_regressor = RandomForestRegressor(n_estimators=100, max_depth=5, random_state=42)\n",
    "\n",
    "random_forest_regressor.fit(x_train, y_train)\n",
    "y_pred = random_forest_regressor.predict(x_test)\n",
    "\n",
    "mse = mean_squared_error(y_test, y_pred)\n",
    "print(\"Mean Squared Error:\", mse)\n",
    "\n",
    "\n",
    "X_test_sorted = np.sort(x_test, axis=0)\n",
    "y_pred_sorted = random_forest_regressor.predict(X_test_sorted)\n",
    "model_1r = RandomForestRegressor()\n",
    "model_1r.fit(x_train, y_train)\n",
    "ttyr=model_1r\n",
    "model_1r.score(x_train, y_train)"
   ]
  },
  {
   "cell_type": "code",
   "execution_count": 42,
   "id": "cef4a065",
   "metadata": {},
   "outputs": [],
   "source": [
    "import joblib  \n",
    "\n",
    "joblib.dump(ttyr, 'model.pkl') \n",
    "\n",
    "ridge_from_joblib = model = joblib.load(\"model.pkl\")"
   ]
  },
  {
   "cell_type": "code",
   "execution_count": null,
   "id": "b7b7c938",
   "metadata": {},
   "outputs": [],
   "source": []
  },
  {
   "cell_type": "code",
   "execution_count": 43,
   "id": "1290e5fc",
   "metadata": {},
   "outputs": [],
   "source": [
    "def preprocess(lat1,lon1,lat2,lon2,nop):\n",
    "    test_data=np.array([[lat1,lon1,lat2,lon2,nop]])\n",
    "    trained_model=joblib.load(\"model.pkl\")\n",
    "    prediction=trained_model.predict(test_data)\n",
    "    return prediction\n",
    "# t=preprocess(40.733143,-73.987130,40.758092,-73.991567,1)\n",
    "# print(\"Fare: \",t)"
   ]
  },
  {
   "cell_type": "code",
   "execution_count": null,
   "id": "0d52ddda",
   "metadata": {},
   "outputs": [],
   "source": []
  },
  {
   "cell_type": "code",
   "execution_count": 44,
   "id": "997a11a5",
   "metadata": {},
   "outputs": [],
   "source": [
    "# while True:\n",
    "#     event,values = mainWin.read()\n",
    "#     if event==sg.WIN_CLOSED:\n",
    "#         break\n",
    "#     elif event == '--SUB--' :\n",
    "#         win2=True\n",
    "#         break    \n",
    "# mainWin.close()\n",
    "\n",
    "\n",
    "# if win2==True:\n",
    "#     callWin2()"
   ]
  },
  {
   "cell_type": "code",
   "execution_count": null,
   "id": "95858334",
   "metadata": {},
   "outputs": [],
   "source": []
  },
  {
   "cell_type": "code",
   "execution_count": null,
   "id": "0fb408cb",
   "metadata": {},
   "outputs": [
    {
     "name": "stderr",
     "output_type": "stream",
     "text": [
      "C:\\Users\\Hp\\anaconda3\\Lib\\site-packages\\sklearn\\base.py:464: UserWarning: X does not have valid feature names, but RandomForestRegressor was fitted with feature names\n",
      "  warnings.warn(\n"
     ]
    }
   ],
   "source": [
    "# while True:\n",
    "#     event,values = expWin.read()\n",
    "#     if event==sg.WIN_CLOSED:\n",
    "#         break\n",
    "#     elif event == '--SUBF--' :\n",
    "#         pickLat = float(values['--PLAT--'])\n",
    "#         pickLon = (values['--PLON--'])\n",
    "#         dropLat = (values['--DLAT--'])\n",
    "#         dropLon = (values['--DLON--'])\n",
    "#         noOfPass = int(values['--PASSE--'])\n",
    "#         t=preprocess(pickLat,pickLon,dropLat,dropLon,noOfPass)\n",
    "#         CallFinal(t)\n",
    "        \n",
    "# #         expWin['--FR--'].update(t)\n",
    "# expWin.close()"
   ]
  },
  {
   "cell_type": "code",
   "execution_count": null,
   "id": "3a1d6bd3",
   "metadata": {},
   "outputs": [],
   "source": []
  },
  {
   "cell_type": "code",
   "execution_count": null,
   "id": "1d4e13f2",
   "metadata": {},
   "outputs": [],
   "source": []
  }
 ],
 "metadata": {
  "kernelspec": {
   "display_name": "Python 3 (ipykernel)",
   "language": "python",
   "name": "python3"
  },
  "language_info": {
   "codemirror_mode": {
    "name": "ipython",
    "version": 3
   },
   "file_extension": ".py",
   "mimetype": "text/x-python",
   "name": "python",
   "nbconvert_exporter": "python",
   "pygments_lexer": "ipython3",
   "version": "3.11.5"
  }
 },
 "nbformat": 4,
 "nbformat_minor": 5
}
