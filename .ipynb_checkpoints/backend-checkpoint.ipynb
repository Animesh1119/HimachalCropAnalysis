{
 "cells": [
  {
   "cell_type": "code",
   "execution_count": null,
   "id": "d46e4371",
   "metadata": {},
   "outputs": [],
   "source": [
    "import numpy as np\n",
    "import pandas as pd\n",
    "import matplotlib.pyplot as plt\n",
    "import seaborn as sns\n",
    "import warnings\n",
    "warnings.filterwarnings(\"ignore\")\n",
    "pd.set_option('display.max_columns',None)\n",
    "pd.set_option('display.max_rows',None)\n",
    "\n",
    "from sklearn.model_selection import train_test_split\n",
    "from sklearn.linear_model import LinearRegression\n",
    "# import PySimpleGUI as sg\n",
    "from matplotlib.figure import Figure\n",
    "from matplotlib.backends.backend_tkagg import FigureCanvasTkAgg"
   ]
  },
  {
   "cell_type": "code",
   "execution_count": null,
   "id": "3d6f4cb7",
   "metadata": {},
   "outputs": [],
   "source": [
    "from sklearn.preprocessing import OneHotEncoder\n",
    "from sklearn.compose import ColumnTransformer"
   ]
  },
  {
   "cell_type": "code",
   "execution_count": null,
   "id": "9711366b",
   "metadata": {},
   "outputs": [],
   "source": [
    "data=pd.read_csv(\"newData.csv\")"
   ]
  },
  {
   "cell_type": "code",
   "execution_count": null,
   "id": "a5de1522",
   "metadata": {},
   "outputs": [],
   "source": [
    "data.head()"
   ]
  },
  {
   "cell_type": "code",
   "execution_count": null,
   "id": "db3f5f54",
   "metadata": {},
   "outputs": [],
   "source": [
    "data.info()"
   ]
  },
  {
   "cell_type": "code",
   "execution_count": null,
   "id": "2404c0fa",
   "metadata": {},
   "outputs": [],
   "source": [
    "data.dtypes"
   ]
  },
  {
   "cell_type": "code",
   "execution_count": null,
   "id": "5c9371af",
   "metadata": {},
   "outputs": [],
   "source": [
    "data.describe(include='all')"
   ]
  },
  {
   "cell_type": "code",
   "execution_count": null,
   "id": "ff89adac",
   "metadata": {},
   "outputs": [],
   "source": [
    "data.isnull().sum()"
   ]
  },
  {
   "cell_type": "code",
   "execution_count": null,
   "id": "a5d9e5fe",
   "metadata": {},
   "outputs": [],
   "source": [
    "data.shape"
   ]
  },
  {
   "cell_type": "code",
   "execution_count": null,
   "id": "56d6116b",
   "metadata": {},
   "outputs": [],
   "source": [
    "data=data[data[\"Production\"] >= 0]"
   ]
  },
  {
   "cell_type": "code",
   "execution_count": null,
   "id": "52fecf66",
   "metadata": {},
   "outputs": [],
   "source": [
    "len(data)"
   ]
  },
  {
   "cell_type": "code",
   "execution_count": null,
   "id": "e358ce15",
   "metadata": {},
   "outputs": [],
   "source": [
    "sns.countplot(x=\"Production\",data=data)\n",
    "plt.savefig('Production.png', format='png')"
   ]
  },
  {
   "cell_type": "code",
   "execution_count": null,
   "id": "be0f4350",
   "metadata": {},
   "outputs": [],
   "source": [
    "sns.distplot(data[\"Area\"])\n",
    "plt.savefig('Area.png', format='png')"
   ]
  },
  {
   "cell_type": "code",
   "execution_count": null,
   "id": "742cce24",
   "metadata": {},
   "outputs": [],
   "source": [
    "sns.distplot(data[data[\"Production\"] < 300][\"Production\"], kde=False);\n",
    "plt.savefig('fig1.png', format='png')"
   ]
  },
  {
   "cell_type": "code",
   "execution_count": null,
   "id": "f2493dd3",
   "metadata": {},
   "outputs": [],
   "source": [
    "data.head()"
   ]
  },
  {
   "cell_type": "code",
   "execution_count": null,
   "id": "ca4782b4",
   "metadata": {},
   "outputs": [],
   "source": [
    "x = data.drop(['Production'],axis=1)\n",
    "y = data['Production']"
   ]
  },
  {
   "cell_type": "code",
   "execution_count": null,
   "id": "c30d3cc8",
   "metadata": {},
   "outputs": [],
   "source": [
    "cetegorical_features = [\"State\",\"District\",\"Crop\",\"Season\",\"Year\"]\n",
    "one_hot = OneHotEncoder()\n",
    "transformer = ColumnTransformer([(\"one_hot\",\n",
    "                                 one_hot,\n",
    "                                 cetegorical_features)],remainder=\"passthrough\")\n",
    "transformed_X = transformer.fit_transform(x)"
   ]
  },
  {
   "cell_type": "code",
   "execution_count": null,
   "id": "42c3d0b8",
   "metadata": {},
   "outputs": [],
   "source": [
    "x_train, x_test, y_train, y_test = train_test_split(tr,y,test_size=0.30,random_state=0)"
   ]
  },
  {
   "cell_type": "code",
   "execution_count": null,
   "id": "1b42afed",
   "metadata": {},
   "outputs": [],
   "source": [
    "print(\"Shape of x_train: \",x_train.shape)\n",
    "print(\"Shape of x_test: \",x_test.shape)\n",
    "print(\"Shape of y_train: \",y_train.shape)\n",
    "print(\"Shape of y_test: \",y_test.shape)"
   ]
  },
  {
   "cell_type": "code",
   "execution_count": null,
   "id": "f3e2dd24",
   "metadata": {},
   "outputs": [],
   "source": [
    "model_1r = LinearRegression()\n",
    "model_1r.fit(x_train, y_train)\n",
    "\n",
    "k=model_1r.score(x_train, y_train)\n",
    "py=model_1r\n",
    "print(k)"
   ]
  },
  {
   "cell_type": "code",
   "execution_count": null,
   "id": "dd7472fd",
   "metadata": {},
   "outputs": [],
   "source": [
    "from sklearn.tree import DecisionTreeRegressor\n",
    "from sklearn.metrics import mean_squared_error\n",
    "\n",
    "decision_tree_Regressor = DecisionTreeRegressor()\n",
    "\n",
    "decision_tree_Regressor.fit(x_train, y_train)\n",
    "\n",
    "y_pred = decision_tree_Regressor.predict(x_test)\n",
    "\n",
    "mse = mean_squared_error(y_test, y_pred)\n",
    "print(f\"Mean Squared Error: {mse:.2f}\")"
   ]
  },
  {
   "cell_type": "code",
   "execution_count": null,
   "id": "2cc5b1b5",
   "metadata": {},
   "outputs": [],
   "source": [
    "model_1r =  DecisionTreeRegressor()\n",
    "model_1r.fit(x, y)\n",
    "\n",
    "model_1r.score(x, y)"
   ]
  },
  {
   "cell_type": "code",
   "execution_count": null,
   "id": "8566f48a",
   "metadata": {},
   "outputs": [],
   "source": [
    "from sklearn.ensemble import GradientBoostingRegressor\n",
    "from sklearn.metrics import mean_squared_error\n",
    "\n",
    "gradient_boosting_regressor = GradientBoostingRegressor(n_estimators=100, learning_rate=0.1, max_depth=5, random_state=42)\n",
    "gradient_boosting_regressor.fit(x_train, y_train)\n",
    "y_pred = gradient_boosting_regressor.predict(x_test)\n",
    "mse = mean_squared_error(y_test, y_pred)\n",
    "print(\"Mean Squared Error:\", mse)\n",
    "\n",
    "X_test_sorted = np.sort(x_test, axis=0)\n",
    "y_pred_sorted = gradient_boosting_regressor.predict(X_test_sorted)"
   ]
  },
  {
   "cell_type": "code",
   "execution_count": null,
   "id": "2fc28cff",
   "metadata": {},
   "outputs": [],
   "source": [
    "model_1r = GradientBoostingRegressor()\n",
    "model_1r.fit(x_train, y_train)\n",
    "\n",
    "model_1r.score(x_train, y_train)"
   ]
  },
  {
   "cell_type": "code",
   "execution_count": null,
   "id": "08a594d8",
   "metadata": {},
   "outputs": [],
   "source": [
    "ndf = pd.read_csv(\"newData.csv\")"
   ]
  },
  {
   "cell_type": "code",
   "execution_count": null,
   "id": "7a3dbdcd",
   "metadata": {},
   "outputs": [],
   "source": [
    "x_train, x_test, y_train, y_test = train_test_split(x,y,test_size=0.30,random_state=0)"
   ]
  },
  {
   "cell_type": "code",
   "execution_count": null,
   "id": "598e4521",
   "metadata": {},
   "outputs": [],
   "source": [
    "x_train.info()"
   ]
  },
  {
   "cell_type": "code",
   "execution_count": null,
   "id": "cdba0eb4",
   "metadata": {},
   "outputs": [],
   "source": [
    "from sklearn.ensemble import RandomForestRegressor\n",
    "\n",
    "np.random.seed(42)\n",
    "\n",
    "\n",
    "random_forest_regressor = RandomForestRegressor(n_estimators=100, max_depth=5, random_state=42)\n",
    "\n",
    "random_forest_regressor.fit(x_train, y_train)\n",
    "y_pred = random_forest_regressor.predict(x_test)\n",
    "\n",
    "mse = mean_squared_error(y_test, y_pred)\n",
    "print(\"Mean Squared Error:\", mse)\n",
    "\n",
    "\n",
    "X_test_sorted = np.sort(x_test, axis=0)\n",
    "y_pred_sorted = random_forest_regressor.predict(X_test_sorted)\n",
    "model_1r = RandomForestRegressor()\n",
    "model_1r.fit(x_train, y_train)\n",
    "ttyr=model_1r\n",
    "model_1r.score(x_train, y_train)"
   ]
  },
  {
   "cell_type": "code",
   "execution_count": null,
   "id": "cef4a065",
   "metadata": {},
   "outputs": [],
   "source": [
    "import joblib  \n",
    "\n",
    "joblib.dump(ttyr, 'model.pkl') \n",
    "\n",
    "ridge_from_joblib = model = joblib.load(\"model.pkl\")"
   ]
  },
  {
   "cell_type": "code",
   "execution_count": null,
   "id": "b7b7c938",
   "metadata": {},
   "outputs": [],
   "source": []
  },
  {
   "cell_type": "code",
   "execution_count": null,
   "id": "1290e5fc",
   "metadata": {},
   "outputs": [],
   "source": [
    "def preprocess(lat1,lon1,lat2,lon2,nop):\n",
    "    test_data=np.array([[lat1,lon1,lat2,lon2,nop]])\n",
    "    trained_model=joblib.load(\"model.pkl\")\n",
    "    prediction=trained_model.predict(test_data)\n",
    "    return prediction\n",
    "# t=preprocess(40.733143,-73.987130,40.758092,-73.991567,1)\n",
    "# print(\"Fare: \",t)"
   ]
  },
  {
   "cell_type": "code",
   "execution_count": null,
   "id": "0d52ddda",
   "metadata": {},
   "outputs": [],
   "source": []
  }
 ],
 "metadata": {
  "kernelspec": {
   "display_name": "Python 3 (ipykernel)",
   "language": "python",
   "name": "python3"
  },
  "language_info": {
   "codemirror_mode": {
    "name": "ipython",
    "version": 3
   },
   "file_extension": ".py",
   "mimetype": "text/x-python",
   "name": "python",
   "nbconvert_exporter": "python",
   "pygments_lexer": "ipython3",
   "version": "3.11.5"
  }
 },
 "nbformat": 4,
 "nbformat_minor": 5
}
